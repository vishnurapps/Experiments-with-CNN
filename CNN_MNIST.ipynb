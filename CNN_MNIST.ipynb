{
  "nbformat": 4,
  "nbformat_minor": 0,
  "metadata": {
    "colab": {
      "name": "Copy of CNN_MNIST.ipynb",
      "provenance": [],
      "collapsed_sections": [],
      "include_colab_link": true
    },
    "kernelspec": {
      "name": "python3",
      "display_name": "Python 3"
    }
  },
  "cells": [
    {
      "cell_type": "markdown",
      "metadata": {
        "id": "view-in-github",
        "colab_type": "text"
      },
      "source": [
        "<a href=\"https://colab.research.google.com/github/vishnurapps/Experiments-with-CNN/blob/master/CNN_MNIST.ipynb\" target=\"_parent\"><img src=\"https://colab.research.google.com/assets/colab-badge.svg\" alt=\"Open In Colab\"/></a>"
      ]
    },
    {
      "cell_type": "code",
      "metadata": {
        "id": "H9EU0e8yzFOm",
        "colab_type": "code",
        "outputId": "69c38e22-5cd9-4f3c-8e7a-29d4bc4cdf89",
        "colab": {
          "base_uri": "https://localhost:8080/",
          "height": 66
        }
      },
      "source": [
        "# Credits: https://github.com/keras-team/keras/blob/master/examples/mnist_cnn.py\n",
        "\n",
        "\n",
        "from __future__ import print_function\n",
        "import keras\n",
        "from keras.datasets import mnist\n",
        "from keras.models import Sequential\n",
        "from keras.layers import Dense, Dropout, Flatten\n",
        "from keras.layers import Conv2D, MaxPooling2D\n",
        "from keras import backend as K\n",
        "import warnings\n",
        "warnings.filterwarnings(\"ignore\", category=DeprecationWarning) \n",
        "\n",
        "batch_size = 128\n",
        "num_classes = 10\n",
        "epochs = 12\n",
        "\n",
        "# input image dimensions\n",
        "img_rows, img_cols = 28, 28\n",
        "\n",
        "# the data, split between train and test sets\n",
        "(x_train, y_train), (x_test, y_test) = mnist.load_data()\n",
        "\n",
        "if K.image_data_format() == 'channels_first':\n",
        "    x_train = x_train.reshape(x_train.shape[0], 1, img_rows, img_cols)\n",
        "    x_test = x_test.reshape(x_test.shape[0], 1, img_rows, img_cols)\n",
        "    input_shape = (1, img_rows, img_cols)\n",
        "else:\n",
        "    x_train = x_train.reshape(x_train.shape[0], img_rows, img_cols, 1)\n",
        "    x_test = x_test.reshape(x_test.shape[0], img_rows, img_cols, 1)\n",
        "    input_shape = (img_rows, img_cols, 1)\n",
        "\n",
        "x_train = x_train.astype('float32')\n",
        "x_test = x_test.astype('float32')\n",
        "x_train /= 255\n",
        "x_test /= 255\n",
        "print('x_train shape:', x_train.shape)\n",
        "print(x_train.shape[0], 'train samples')\n",
        "print(x_test.shape[0], 'test samples')\n",
        "\n",
        "# convert class vectors to binary class matrices\n",
        "y_train = keras.utils.to_categorical(y_train, num_classes)\n",
        "y_test = keras.utils.to_categorical(y_test, num_classes)"
      ],
      "execution_count": 0,
      "outputs": [
        {
          "output_type": "stream",
          "text": [
            "x_train shape: (60000, 28, 28, 1)\n",
            "60000 train samples\n",
            "10000 test samples\n"
          ],
          "name": "stdout"
        }
      ]
    },
    {
      "cell_type": "code",
      "metadata": {
        "id": "e7w3fx88MJ-b",
        "colab_type": "code",
        "outputId": "a840ca73-ed7f-4425-8e43-6da9a04d2f82",
        "colab": {
          "base_uri": "https://localhost:8080/",
          "height": 466
        }
      },
      "source": [
        "model = Sequential()\n",
        "model.add(Conv2D(32, kernel_size=(3, 3),\n",
        "                 activation='relu',\n",
        "                 input_shape=input_shape))\n",
        "model.add(Conv2D(64, (3, 3), activation='relu'))\n",
        "model.add(MaxPooling2D(pool_size=(2, 2)))\n",
        "model.add(Dropout(0.25))\n",
        "model.add(Flatten())\n",
        "model.add(Dense(128, activation='relu'))\n",
        "model.add(Dropout(0.5))\n",
        "model.add(Dense(num_classes, activation='softmax'))\n",
        " \n",
        "model.compile(loss=keras.losses.categorical_crossentropy,\n",
        "              optimizer=keras.optimizers.Adadelta(),\n",
        "              metrics=['accuracy'])\n",
        "\n",
        "model.fit(x_train, y_train,\n",
        "          batch_size=batch_size,\n",
        "          epochs=epochs,\n",
        "          verbose=1,\n",
        "          validation_data=(x_test, y_test))\n",
        "score = model.evaluate(x_test, y_test, verbose=0)\n",
        "print('Test loss:', score[0])\n",
        "print('Test accuracy:', score[1])"
      ],
      "execution_count": 0,
      "outputs": [
        {
          "output_type": "stream",
          "text": [
            "Train on 60000 samples, validate on 10000 samples\n",
            "Epoch 1/12\n",
            "60000/60000 [==============================] - 145s 2ms/step - loss: 0.2593 - acc: 0.9190 - val_loss: 0.0588 - val_acc: 0.9809\n",
            "Epoch 2/12\n",
            "60000/60000 [==============================] - 142s 2ms/step - loss: 0.0916 - acc: 0.9729 - val_loss: 0.0458 - val_acc: 0.9846\n",
            "Epoch 3/12\n",
            "60000/60000 [==============================] - 142s 2ms/step - loss: 0.0679 - acc: 0.9795 - val_loss: 0.0355 - val_acc: 0.9884\n",
            "Epoch 4/12\n",
            "60000/60000 [==============================] - 141s 2ms/step - loss: 0.0540 - acc: 0.9839 - val_loss: 0.0302 - val_acc: 0.9901\n",
            "Epoch 5/12\n",
            "60000/60000 [==============================] - 142s 2ms/step - loss: 0.0466 - acc: 0.9863 - val_loss: 0.0310 - val_acc: 0.9894\n",
            "Epoch 6/12\n",
            "60000/60000 [==============================] - 141s 2ms/step - loss: 0.0407 - acc: 0.9879 - val_loss: 0.0281 - val_acc: 0.9912\n",
            "Epoch 7/12\n",
            "60000/60000 [==============================] - 141s 2ms/step - loss: 0.0378 - acc: 0.9889 - val_loss: 0.0302 - val_acc: 0.9907\n",
            "Epoch 8/12\n",
            "60000/60000 [==============================] - 142s 2ms/step - loss: 0.0332 - acc: 0.9899 - val_loss: 0.0324 - val_acc: 0.9907\n",
            "Epoch 9/12\n",
            "60000/60000 [==============================] - 142s 2ms/step - loss: 0.0344 - acc: 0.9895 - val_loss: 0.0286 - val_acc: 0.9910\n",
            "Epoch 10/12\n",
            "60000/60000 [==============================] - 143s 2ms/step - loss: 0.0306 - acc: 0.9908 - val_loss: 0.0276 - val_acc: 0.9908\n",
            "Epoch 11/12\n",
            "60000/60000 [==============================] - 142s 2ms/step - loss: 0.0278 - acc: 0.9914 - val_loss: 0.0276 - val_acc: 0.9912\n",
            "Epoch 12/12\n",
            "60000/60000 [==============================] - 143s 2ms/step - loss: 0.0276 - acc: 0.9916 - val_loss: 0.0294 - val_acc: 0.9904\n",
            "Test loss: 0.029378043580790835\n",
            "Test accuracy: 0.9904\n"
          ],
          "name": "stdout"
        }
      ]
    },
    {
      "cell_type": "code",
      "metadata": {
        "id": "qIvGq9KWMRWP",
        "colab_type": "code",
        "outputId": "b1aa4947-def5-4c78-85da-e7703f64b39b",
        "colab": {
          "base_uri": "https://localhost:8080/",
          "height": 466
        }
      },
      "source": [
        "model = Sequential()\n",
        "model.add(Conv2D(32, kernel_size=(5, 5),\n",
        "                 activation='relu',\n",
        "                 input_shape=input_shape))\n",
        "model.add(Conv2D(64, (5, 5), activation='relu'))\n",
        "model.add(MaxPooling2D(pool_size=(2, 2)))\n",
        "model.add(Dropout(0.25))\n",
        "model.add(Flatten())\n",
        "model.add(Dense(128, activation='relu'))\n",
        "model.add(Dropout(0.5))\n",
        "model.add(Dense(num_classes, activation='softmax'))\n",
        "\n",
        "model.compile(loss=keras.losses.categorical_crossentropy,\n",
        "              optimizer=keras.optimizers.Adadelta(),\n",
        "              metrics=['accuracy'])\n",
        "\n",
        "model.fit(x_train, y_train,\n",
        "          batch_size=batch_size,\n",
        "          epochs=epochs,\n",
        "          verbose=1,\n",
        "          validation_data=(x_test, y_test))\n",
        "score = model.evaluate(x_test, y_test, verbose=0)\n",
        "print('Test loss:', score[0])\n",
        "print('Test accuracy:', score[1])"
      ],
      "execution_count": 0,
      "outputs": [
        {
          "output_type": "stream",
          "text": [
            "Train on 60000 samples, validate on 10000 samples\n",
            "Epoch 1/12\n",
            "60000/60000 [==============================] - 216s 4ms/step - loss: 0.2286 - acc: 0.9295 - val_loss: 0.0470 - val_acc: 0.9837\n",
            "Epoch 2/12\n",
            "60000/60000 [==============================] - 215s 4ms/step - loss: 0.0763 - acc: 0.9771 - val_loss: 0.0340 - val_acc: 0.9886\n",
            "Epoch 3/12\n",
            "60000/60000 [==============================] - 215s 4ms/step - loss: 0.0583 - acc: 0.9830 - val_loss: 0.0323 - val_acc: 0.9888\n",
            "Epoch 4/12\n",
            "60000/60000 [==============================] - 215s 4ms/step - loss: 0.0472 - acc: 0.9863 - val_loss: 0.0244 - val_acc: 0.9921\n",
            "Epoch 5/12\n",
            "60000/60000 [==============================] - 216s 4ms/step - loss: 0.0402 - acc: 0.9880 - val_loss: 0.0241 - val_acc: 0.9920\n",
            "Epoch 6/12\n",
            "60000/60000 [==============================] - 215s 4ms/step - loss: 0.0366 - acc: 0.9893 - val_loss: 0.0228 - val_acc: 0.9916\n",
            "Epoch 7/12\n",
            "60000/60000 [==============================] - 215s 4ms/step - loss: 0.0326 - acc: 0.9905 - val_loss: 0.0228 - val_acc: 0.9922\n",
            "Epoch 8/12\n",
            "60000/60000 [==============================] - 215s 4ms/step - loss: 0.0272 - acc: 0.9915 - val_loss: 0.0247 - val_acc: 0.9916\n",
            "Epoch 9/12\n",
            "60000/60000 [==============================] - 215s 4ms/step - loss: 0.0259 - acc: 0.9923 - val_loss: 0.0226 - val_acc: 0.9930\n",
            "Epoch 10/12\n",
            "60000/60000 [==============================] - 215s 4ms/step - loss: 0.0240 - acc: 0.9925 - val_loss: 0.0236 - val_acc: 0.9924\n",
            "Epoch 11/12\n",
            "60000/60000 [==============================] - 214s 4ms/step - loss: 0.0224 - acc: 0.9932 - val_loss: 0.0225 - val_acc: 0.9927\n",
            "Epoch 12/12\n",
            "60000/60000 [==============================] - 215s 4ms/step - loss: 0.0210 - acc: 0.9934 - val_loss: 0.0230 - val_acc: 0.9926\n",
            "Test loss: 0.023033365368921612\n",
            "Test accuracy: 0.9926\n"
          ],
          "name": "stdout"
        }
      ]
    },
    {
      "cell_type": "code",
      "metadata": {
        "id": "orHawfJyU0gc",
        "colab_type": "code",
        "outputId": "b57422e3-3988-4273-93e9-b75f86fcb2c4",
        "colab": {
          "base_uri": "https://localhost:8080/",
          "height": 466
        }
      },
      "source": [
        "model = Sequential()\n",
        "model.add(Conv2D(32, kernel_size=(7, 7),\n",
        "                 activation='relu',\n",
        "                 input_shape=input_shape))\n",
        "model.add(Conv2D(64, (7, 7), activation='relu'))\n",
        "model.add(MaxPooling2D(pool_size=(2, 2)))\n",
        "model.add(Dropout(0.25))\n",
        "model.add(Flatten())\n",
        "model.add(Dense(128, activation='relu'))\n",
        "model.add(Dropout(0.5))\n",
        "model.add(Dense(num_classes, activation='softmax'))\n",
        "\n",
        "model.compile(loss=keras.losses.categorical_crossentropy,\n",
        "              optimizer=keras.optimizers.Adadelta(),\n",
        "              metrics=['accuracy'])\n",
        "\n",
        "model.fit(x_train, y_train,\n",
        "          batch_size=batch_size,\n",
        "          epochs=epochs,\n",
        "          verbose=1,\n",
        "          validation_data=(x_test, y_test))\n",
        "score = model.evaluate(x_test, y_test, verbose=0)\n",
        "print('Test loss:', score[0])\n",
        "print('Test accuracy:', score[1])"
      ],
      "execution_count": 0,
      "outputs": [
        {
          "output_type": "stream",
          "text": [
            "Train on 60000 samples, validate on 10000 samples\n",
            "Epoch 1/12\n",
            "60000/60000 [==============================] - 259s 4ms/step - loss: 0.2383 - acc: 0.9271 - val_loss: 0.0540 - val_acc: 0.9826\n",
            "Epoch 2/12\n",
            "60000/60000 [==============================] - 258s 4ms/step - loss: 0.0802 - acc: 0.9762 - val_loss: 0.0374 - val_acc: 0.9884\n",
            "Epoch 3/12\n",
            "60000/60000 [==============================] - 258s 4ms/step - loss: 0.0578 - acc: 0.9826 - val_loss: 0.0300 - val_acc: 0.9897\n",
            "Epoch 4/12\n",
            "60000/60000 [==============================] - 257s 4ms/step - loss: 0.0479 - acc: 0.9861 - val_loss: 0.0286 - val_acc: 0.9900\n",
            "Epoch 5/12\n",
            "60000/60000 [==============================] - 259s 4ms/step - loss: 0.0395 - acc: 0.9879 - val_loss: 0.0261 - val_acc: 0.9917\n",
            "Epoch 6/12\n",
            "60000/60000 [==============================] - 259s 4ms/step - loss: 0.0356 - acc: 0.9892 - val_loss: 0.0302 - val_acc: 0.9910\n",
            "Epoch 7/12\n",
            "60000/60000 [==============================] - 259s 4ms/step - loss: 0.0314 - acc: 0.9909 - val_loss: 0.0223 - val_acc: 0.9932\n",
            "Epoch 8/12\n",
            "60000/60000 [==============================] - 259s 4ms/step - loss: 0.0272 - acc: 0.9922 - val_loss: 0.0282 - val_acc: 0.9918\n",
            "Epoch 9/12\n",
            "60000/60000 [==============================] - 259s 4ms/step - loss: 0.0251 - acc: 0.9927 - val_loss: 0.0243 - val_acc: 0.9926\n",
            "Epoch 10/12\n",
            "60000/60000 [==============================] - 259s 4ms/step - loss: 0.0230 - acc: 0.9931 - val_loss: 0.0223 - val_acc: 0.9935\n",
            "Epoch 11/12\n",
            "60000/60000 [==============================] - 260s 4ms/step - loss: 0.0216 - acc: 0.9932 - val_loss: 0.0195 - val_acc: 0.9941\n",
            "Epoch 12/12\n",
            "60000/60000 [==============================] - 260s 4ms/step - loss: 0.0194 - acc: 0.9940 - val_loss: 0.0227 - val_acc: 0.9937\n",
            "Test loss: 0.02267876938734339\n",
            "Test accuracy: 0.9937\n"
          ],
          "name": "stdout"
        }
      ]
    },
    {
      "cell_type": "code",
      "metadata": {
        "id": "qElepIV3X0yc",
        "colab_type": "code",
        "outputId": "98921beb-9364-4e69-fa8c-adfa83e7a4c9",
        "colab": {
          "base_uri": "https://localhost:8080/",
          "height": 466
        }
      },
      "source": [
        "model = Sequential()\n",
        "model.add(Conv2D(32, kernel_size=(3, 3),\n",
        "                 activation='relu',\n",
        "                 input_shape=input_shape))\n",
        "model.add(Conv2D(64, (3, 3), activation='relu'))\n",
        "model.add(MaxPooling2D(pool_size=(3, 3)))\n",
        "model.add(Dropout(0.25))\n",
        "model.add(Flatten())\n",
        "model.add(Dense(128, activation='relu'))\n",
        "model.add(Dropout(0.5))\n",
        "model.add(Dense(num_classes, activation='softmax'))\n",
        "\n",
        "model.compile(loss=keras.losses.categorical_crossentropy,\n",
        "              optimizer=keras.optimizers.Adadelta(),\n",
        "              metrics=['accuracy'])\n",
        "\n",
        "model.fit(x_train, y_train,\n",
        "          batch_size=batch_size,\n",
        "          epochs=epochs,\n",
        "          verbose=1,\n",
        "          validation_data=(x_test, y_test))\n",
        "score = model.evaluate(x_test, y_test, verbose=0)\n",
        "print('Test loss:', score[0])\n",
        "print('Test accuracy:', score[1])"
      ],
      "execution_count": 0,
      "outputs": [
        {
          "output_type": "stream",
          "text": [
            "Train on 60000 samples, validate on 10000 samples\n",
            "Epoch 1/12\n",
            "60000/60000 [==============================] - 129s 2ms/step - loss: 0.2843 - acc: 0.9109 - val_loss: 0.0587 - val_acc: 0.9816\n",
            "Epoch 2/12\n",
            "60000/60000 [==============================] - 128s 2ms/step - loss: 0.0913 - acc: 0.9725 - val_loss: 0.0385 - val_acc: 0.9873\n",
            "Epoch 3/12\n",
            "60000/60000 [==============================] - 128s 2ms/step - loss: 0.0685 - acc: 0.9791 - val_loss: 0.0351 - val_acc: 0.9881\n",
            "Epoch 4/12\n",
            "60000/60000 [==============================] - 127s 2ms/step - loss: 0.0600 - acc: 0.9821 - val_loss: 0.0312 - val_acc: 0.9899\n",
            "Epoch 5/12\n",
            "60000/60000 [==============================] - 127s 2ms/step - loss: 0.0535 - acc: 0.9839 - val_loss: 0.0318 - val_acc: 0.9894\n",
            "Epoch 6/12\n",
            "60000/60000 [==============================] - 127s 2ms/step - loss: 0.0465 - acc: 0.9859 - val_loss: 0.0268 - val_acc: 0.9905\n",
            "Epoch 7/12\n",
            "60000/60000 [==============================] - 127s 2ms/step - loss: 0.0441 - acc: 0.9869 - val_loss: 0.0262 - val_acc: 0.9913\n",
            "Epoch 8/12\n",
            "60000/60000 [==============================] - 128s 2ms/step - loss: 0.0405 - acc: 0.9876 - val_loss: 0.0269 - val_acc: 0.9912\n",
            "Epoch 9/12\n",
            "60000/60000 [==============================] - 128s 2ms/step - loss: 0.0375 - acc: 0.9885 - val_loss: 0.0264 - val_acc: 0.9917\n",
            "Epoch 10/12\n",
            "60000/60000 [==============================] - 128s 2ms/step - loss: 0.0350 - acc: 0.9896 - val_loss: 0.0234 - val_acc: 0.9926\n",
            "Epoch 11/12\n",
            "60000/60000 [==============================] - 127s 2ms/step - loss: 0.0314 - acc: 0.9903 - val_loss: 0.0234 - val_acc: 0.9926\n",
            "Epoch 12/12\n",
            "60000/60000 [==============================] - 127s 2ms/step - loss: 0.0314 - acc: 0.9907 - val_loss: 0.0276 - val_acc: 0.9924\n",
            "Test loss: 0.02755191742893412\n",
            "Test accuracy: 0.9924\n"
          ],
          "name": "stdout"
        }
      ]
    },
    {
      "cell_type": "code",
      "metadata": {
        "id": "Khtc-J_VrjT8",
        "colab_type": "code",
        "outputId": "54330433-9814-4acc-dff6-cd5d6a1cfc22",
        "colab": {
          "base_uri": "https://localhost:8080/",
          "height": 466
        }
      },
      "source": [
        "model = Sequential()\n",
        "model.add(Conv2D(32, kernel_size=(3, 3),\n",
        "                 activation='relu',\n",
        "                 input_shape=input_shape))\n",
        "model.add(Conv2D(64, (3, 3), activation='relu'))\n",
        "model.add(MaxPooling2D(pool_size=(5, 5)))\n",
        "model.add(Dropout(0.25))\n",
        "model.add(Flatten())\n",
        "model.add(Dense(128, activation='relu'))\n",
        "model.add(Dropout(0.5))\n",
        "model.add(Dense(num_classes, activation='softmax'))\n",
        "\n",
        "model.compile(loss=keras.losses.categorical_crossentropy,\n",
        "              optimizer=keras.optimizers.Adadelta(),\n",
        "              metrics=['accuracy'])\n",
        "\n",
        "model.fit(x_train, y_train,\n",
        "          batch_size=batch_size,\n",
        "          epochs=epochs,\n",
        "          verbose=1,\n",
        "          validation_data=(x_test, y_test))\n",
        "score = model.evaluate(x_test, y_test, verbose=0)\n",
        "print('Test loss:', score[0])\n",
        "print('Test accuracy:', score[1])"
      ],
      "execution_count": 0,
      "outputs": [
        {
          "output_type": "stream",
          "text": [
            "Train on 60000 samples, validate on 10000 samples\n",
            "Epoch 1/12\n",
            "60000/60000 [==============================] - 119s 2ms/step - loss: 0.3634 - acc: 0.8834 - val_loss: 0.0707 - val_acc: 0.9785\n",
            "Epoch 2/12\n",
            "60000/60000 [==============================] - 118s 2ms/step - loss: 0.1192 - acc: 0.9639 - val_loss: 0.0512 - val_acc: 0.9823\n",
            "Epoch 3/12\n",
            "60000/60000 [==============================] - 118s 2ms/step - loss: 0.0943 - acc: 0.9716 - val_loss: 0.0411 - val_acc: 0.9875\n",
            "Epoch 4/12\n",
            "60000/60000 [==============================] - 118s 2ms/step - loss: 0.0798 - acc: 0.9763 - val_loss: 0.0405 - val_acc: 0.9866\n",
            "Epoch 5/12\n",
            "60000/60000 [==============================] - 118s 2ms/step - loss: 0.0700 - acc: 0.9789 - val_loss: 0.0326 - val_acc: 0.9898\n",
            "Epoch 6/12\n",
            "60000/60000 [==============================] - 118s 2ms/step - loss: 0.0650 - acc: 0.9805 - val_loss: 0.0317 - val_acc: 0.9900\n",
            "Epoch 7/12\n",
            "60000/60000 [==============================] - 118s 2ms/step - loss: 0.0589 - acc: 0.9826 - val_loss: 0.0314 - val_acc: 0.9896\n",
            "Epoch 8/12\n",
            "60000/60000 [==============================] - 118s 2ms/step - loss: 0.0544 - acc: 0.9832 - val_loss: 0.0261 - val_acc: 0.9919\n",
            "Epoch 9/12\n",
            "60000/60000 [==============================] - 118s 2ms/step - loss: 0.0519 - acc: 0.9844 - val_loss: 0.0251 - val_acc: 0.9925\n",
            "Epoch 10/12\n",
            "60000/60000 [==============================] - 118s 2ms/step - loss: 0.0500 - acc: 0.9847 - val_loss: 0.0287 - val_acc: 0.9913\n",
            "Epoch 11/12\n",
            "60000/60000 [==============================] - 118s 2ms/step - loss: 0.0456 - acc: 0.9867 - val_loss: 0.0245 - val_acc: 0.9927\n",
            "Epoch 12/12\n",
            "60000/60000 [==============================] - 117s 2ms/step - loss: 0.0453 - acc: 0.9866 - val_loss: 0.0248 - val_acc: 0.9925\n",
            "Test loss: 0.024844774813171534\n",
            "Test accuracy: 0.9925\n"
          ],
          "name": "stdout"
        }
      ]
    },
    {
      "cell_type": "code",
      "metadata": {
        "id": "1J0n8m9vxxlk",
        "colab_type": "code",
        "outputId": "e6f02083-532f-4e9b-ce18-a1b56d371ab4",
        "colab": {
          "base_uri": "https://localhost:8080/",
          "height": 466
        }
      },
      "source": [
        "model = Sequential()\n",
        "model.add(Conv2D(32, kernel_size=(3, 3),\n",
        "                 activation='relu',\n",
        "                 input_shape=input_shape))\n",
        "model.add(Conv2D(64, (3, 3), activation='relu'))\n",
        "model.add(MaxPooling2D(pool_size=(2, 2)))\n",
        "model.add(Dropout(0.4))\n",
        "model.add(Flatten())\n",
        "model.add(Dense(128, activation='relu'))\n",
        "model.add(Dropout(0.5))\n",
        "model.add(Dense(num_classes, activation='softmax'))\n",
        "\n",
        "model.compile(loss=keras.losses.categorical_crossentropy,\n",
        "              optimizer=keras.optimizers.Adadelta(),\n",
        "              metrics=['accuracy'])\n",
        "\n",
        "model.fit(x_train, y_train,\n",
        "          batch_size=batch_size,\n",
        "          epochs=epochs,\n",
        "          verbose=1,\n",
        "          validation_data=(x_test, y_test))\n",
        "score = model.evaluate(x_test, y_test, verbose=0)\n",
        "print('Test loss:', score[0])\n",
        "print('Test accuracy:', score[1])"
      ],
      "execution_count": 0,
      "outputs": [
        {
          "output_type": "stream",
          "text": [
            "Train on 60000 samples, validate on 10000 samples\n",
            "Epoch 1/12\n",
            "60000/60000 [==============================] - 143s 2ms/step - loss: 0.2825 - acc: 0.9123 - val_loss: 0.0592 - val_acc: 0.9818\n",
            "Epoch 2/12\n",
            "60000/60000 [==============================] - 142s 2ms/step - loss: 0.0963 - acc: 0.9708 - val_loss: 0.0394 - val_acc: 0.9867\n",
            "Epoch 3/12\n",
            "60000/60000 [==============================] - 143s 2ms/step - loss: 0.0735 - acc: 0.9784 - val_loss: 0.0365 - val_acc: 0.9873\n",
            "Epoch 4/12\n",
            "60000/60000 [==============================] - 143s 2ms/step - loss: 0.0625 - acc: 0.9820 - val_loss: 0.0335 - val_acc: 0.9886\n",
            "Epoch 5/12\n",
            "60000/60000 [==============================] - 142s 2ms/step - loss: 0.0552 - acc: 0.9834 - val_loss: 0.0292 - val_acc: 0.9894\n",
            "Epoch 6/12\n",
            "60000/60000 [==============================] - 143s 2ms/step - loss: 0.0491 - acc: 0.9853 - val_loss: 0.0283 - val_acc: 0.9911\n",
            "Epoch 7/12\n",
            "60000/60000 [==============================] - 143s 2ms/step - loss: 0.0454 - acc: 0.9865 - val_loss: 0.0278 - val_acc: 0.9907\n",
            "Epoch 8/12\n",
            "60000/60000 [==============================] - 143s 2ms/step - loss: 0.0424 - acc: 0.9873 - val_loss: 0.0294 - val_acc: 0.9906\n",
            "Epoch 9/12\n",
            "60000/60000 [==============================] - 143s 2ms/step - loss: 0.0401 - acc: 0.9883 - val_loss: 0.0265 - val_acc: 0.9912\n",
            "Epoch 10/12\n",
            "60000/60000 [==============================] - 143s 2ms/step - loss: 0.0387 - acc: 0.9888 - val_loss: 0.0271 - val_acc: 0.9908\n",
            "Epoch 11/12\n",
            "60000/60000 [==============================] - 143s 2ms/step - loss: 0.0367 - acc: 0.9895 - val_loss: 0.0310 - val_acc: 0.9904\n",
            "Epoch 12/12\n",
            "60000/60000 [==============================] - 143s 2ms/step - loss: 0.0355 - acc: 0.9898 - val_loss: 0.0294 - val_acc: 0.9908\n",
            "Test loss: 0.029435559402616128\n",
            "Test accuracy: 0.9908\n"
          ],
          "name": "stdout"
        }
      ]
    },
    {
      "cell_type": "code",
      "metadata": {
        "id": "5U32ZVVTyjH-",
        "colab_type": "code",
        "outputId": "aef7b4e1-71eb-4802-fde3-8a7f669a3f11",
        "colab": {
          "base_uri": "https://localhost:8080/",
          "height": 466
        }
      },
      "source": [
        "model = Sequential()\n",
        "model.add(Conv2D(32, kernel_size=(3, 3),\n",
        "                 activation='relu',\n",
        "                 input_shape=input_shape))\n",
        "model.add(Conv2D(64, (3, 3), activation='relu'))\n",
        "model.add(MaxPooling2D(pool_size=(2, 2)))\n",
        "model.add(Dropout(0.5))\n",
        "model.add(Flatten())\n",
        "model.add(Dense(128, activation='relu'))\n",
        "model.add(Dropout(0.5))\n",
        "model.add(Dense(num_classes, activation='softmax'))\n",
        "\n",
        "model.compile(loss=keras.losses.categorical_crossentropy,\n",
        "              optimizer=keras.optimizers.Adadelta(),\n",
        "              metrics=['accuracy'])\n",
        "\n",
        "model.fit(x_train, y_train,\n",
        "          batch_size=batch_size,\n",
        "          epochs=epochs,\n",
        "          verbose=1,\n",
        "          validation_data=(x_test, y_test))\n",
        "score = model.evaluate(x_test, y_test, verbose=0)\n",
        "print('Test loss:', score[0])\n",
        "print('Test accuracy:', score[1])"
      ],
      "execution_count": 0,
      "outputs": [
        {
          "output_type": "stream",
          "text": [
            "Train on 60000 samples, validate on 10000 samples\n",
            "Epoch 1/12\n",
            "60000/60000 [==============================] - 144s 2ms/step - loss: 0.2746 - acc: 0.9159 - val_loss: 0.0615 - val_acc: 0.9797\n",
            "Epoch 2/12\n",
            "60000/60000 [==============================] - 143s 2ms/step - loss: 0.0993 - acc: 0.9703 - val_loss: 0.0469 - val_acc: 0.9838\n",
            "Epoch 3/12\n",
            "60000/60000 [==============================] - 144s 2ms/step - loss: 0.0773 - acc: 0.9767 - val_loss: 0.0394 - val_acc: 0.9868\n",
            "Epoch 4/12\n",
            "60000/60000 [==============================] - 143s 2ms/step - loss: 0.0672 - acc: 0.9804 - val_loss: 0.0349 - val_acc: 0.9874\n",
            "Epoch 5/12\n",
            "60000/60000 [==============================] - 143s 2ms/step - loss: 0.0610 - acc: 0.9820 - val_loss: 0.0284 - val_acc: 0.9900\n",
            "Epoch 6/12\n",
            "60000/60000 [==============================] - 143s 2ms/step - loss: 0.0535 - acc: 0.9837 - val_loss: 0.0313 - val_acc: 0.9887\n",
            "Epoch 7/12\n",
            "60000/60000 [==============================] - 143s 2ms/step - loss: 0.0511 - acc: 0.9843 - val_loss: 0.0294 - val_acc: 0.9908\n",
            "Epoch 8/12\n",
            "60000/60000 [==============================] - 143s 2ms/step - loss: 0.0474 - acc: 0.9858 - val_loss: 0.0326 - val_acc: 0.9879\n",
            "Epoch 9/12\n",
            "60000/60000 [==============================] - 144s 2ms/step - loss: 0.0478 - acc: 0.9865 - val_loss: 0.0288 - val_acc: 0.9904\n",
            "Epoch 10/12\n",
            "60000/60000 [==============================] - 144s 2ms/step - loss: 0.0442 - acc: 0.9862 - val_loss: 0.0292 - val_acc: 0.9898\n",
            "Epoch 11/12\n",
            "60000/60000 [==============================] - 145s 2ms/step - loss: 0.0422 - acc: 0.9875 - val_loss: 0.0298 - val_acc: 0.9904\n",
            "Epoch 12/12\n",
            "60000/60000 [==============================] - 144s 2ms/step - loss: 0.0394 - acc: 0.9884 - val_loss: 0.0306 - val_acc: 0.9908\n",
            "Test loss: 0.030589262631652674\n",
            "Test accuracy: 0.9908\n"
          ],
          "name": "stdout"
        }
      ]
    },
    {
      "cell_type": "code",
      "metadata": {
        "id": "fN32f4XayluU",
        "colab_type": "code",
        "outputId": "5984ed8a-ce6f-4c9e-9dd1-70246af8c8a5",
        "colab": {
          "base_uri": "https://localhost:8080/",
          "height": 483
        }
      },
      "source": [
        "model = Sequential()\n",
        "model.add(Conv2D(32, kernel_size=(3, 3),\n",
        "                 activation='relu',\n",
        "                 input_shape=input_shape))\n",
        "model.add(Conv2D(64, (3, 3), activation='relu'))\n",
        "model.add(MaxPooling2D(pool_size=(2, 2)))\n",
        "model.add(Dropout(0.6))\n",
        "model.add(Flatten())\n",
        "model.add(Dense(128, activation='relu'))\n",
        "model.add(Dropout(0.5))\n",
        "model.add(Dense(num_classes, activation='softmax'))\n",
        "\n",
        "model.compile(loss=keras.losses.categorical_crossentropy,\n",
        "              optimizer=keras.optimizers.Adadelta(),\n",
        "              metrics=['accuracy'])\n",
        "\n",
        "model.fit(x_train, y_train,\n",
        "          batch_size=batch_size,\n",
        "          epochs=epochs,\n",
        "          verbose=1,\n",
        "          validation_data=(x_test, y_test))\n",
        "score = model.evaluate(x_test, y_test, verbose=0)\n",
        "print('Test loss:', score[0])\n",
        "print('Test accuracy:', score[1])"
      ],
      "execution_count": 0,
      "outputs": [
        {
          "output_type": "stream",
          "text": [
            "WARNING:tensorflow:Large dropout rate: 0.6 (>0.5). In TensorFlow 2.x, dropout() uses dropout rate instead of keep_prob. Please ensure that this is intended.\n",
            "Train on 60000 samples, validate on 10000 samples\n",
            "Epoch 1/12\n",
            "60000/60000 [==============================] - 144s 2ms/step - loss: 0.3057 - acc: 0.9046 - val_loss: 0.0628 - val_acc: 0.9800\n",
            "Epoch 2/12\n",
            "60000/60000 [==============================] - 142s 2ms/step - loss: 0.1120 - acc: 0.9661 - val_loss: 0.0467 - val_acc: 0.9841\n",
            "Epoch 3/12\n",
            "60000/60000 [==============================] - 142s 2ms/step - loss: 0.0876 - acc: 0.9740 - val_loss: 0.0409 - val_acc: 0.9866\n",
            "Epoch 4/12\n",
            "60000/60000 [==============================] - 142s 2ms/step - loss: 0.0758 - acc: 0.9781 - val_loss: 0.0364 - val_acc: 0.9877\n",
            "Epoch 5/12\n",
            "60000/60000 [==============================] - 142s 2ms/step - loss: 0.0685 - acc: 0.9798 - val_loss: 0.0323 - val_acc: 0.9893\n",
            "Epoch 6/12\n",
            "60000/60000 [==============================] - 142s 2ms/step - loss: 0.0638 - acc: 0.9814 - val_loss: 0.0309 - val_acc: 0.9901\n",
            "Epoch 7/12\n",
            "60000/60000 [==============================] - 142s 2ms/step - loss: 0.0600 - acc: 0.9824 - val_loss: 0.0323 - val_acc: 0.9893\n",
            "Epoch 8/12\n",
            "60000/60000 [==============================] - 142s 2ms/step - loss: 0.0547 - acc: 0.9838 - val_loss: 0.0305 - val_acc: 0.9901\n",
            "Epoch 9/12\n",
            "60000/60000 [==============================] - 142s 2ms/step - loss: 0.0539 - acc: 0.9836 - val_loss: 0.0312 - val_acc: 0.9904\n",
            "Epoch 10/12\n",
            "60000/60000 [==============================] - 142s 2ms/step - loss: 0.0522 - acc: 0.9852 - val_loss: 0.0271 - val_acc: 0.9913\n",
            "Epoch 11/12\n",
            "60000/60000 [==============================] - 142s 2ms/step - loss: 0.0523 - acc: 0.9847 - val_loss: 0.0266 - val_acc: 0.9909\n",
            "Epoch 12/12\n",
            "60000/60000 [==============================] - 143s 2ms/step - loss: 0.0484 - acc: 0.9856 - val_loss: 0.0286 - val_acc: 0.9904\n",
            "Test loss: 0.02855952275172458\n",
            "Test accuracy: 0.9904\n"
          ],
          "name": "stdout"
        }
      ]
    },
    {
      "cell_type": "code",
      "metadata": {
        "id": "8_YpN2nzyng9",
        "colab_type": "code",
        "outputId": "4914656e-8383-4169-e070-fafd67988c2e",
        "colab": {
          "base_uri": "https://localhost:8080/",
          "height": 466
        }
      },
      "source": [
        "model = Sequential()\n",
        "model.add(Conv2D(20, kernel_size=(3, 3),\n",
        "                 activation='relu',\n",
        "                 input_shape=input_shape))\n",
        "model.add(Conv2D(40, (3, 3), activation='relu'))\n",
        "model.add(MaxPooling2D(pool_size=(2, 2)))\n",
        "model.add(Dropout(0.25))\n",
        "model.add(Flatten())\n",
        "model.add(Dense(128, activation='relu'))\n",
        "model.add(Dropout(0.5))\n",
        "model.add(Dense(num_classes, activation='softmax'))\n",
        "\n",
        "model.compile(loss=keras.losses.categorical_crossentropy,\n",
        "              optimizer=keras.optimizers.Adadelta(),\n",
        "              metrics=['accuracy'])\n",
        "\n",
        "model.fit(x_train, y_train,\n",
        "          batch_size=batch_size,\n",
        "          epochs=epochs,\n",
        "          verbose=1,\n",
        "          validation_data=(x_test, y_test))\n",
        "score = model.evaluate(x_test, y_test, verbose=0)\n",
        "print('Test loss:', score[0])\n",
        "print('Test accuracy:', score[1])"
      ],
      "execution_count": 0,
      "outputs": [
        {
          "output_type": "stream",
          "text": [
            "Train on 60000 samples, validate on 10000 samples\n",
            "Epoch 1/12\n",
            "60000/60000 [==============================] - 97s 2ms/step - loss: 0.2654 - acc: 0.9182 - val_loss: 0.0588 - val_acc: 0.9811\n",
            "Epoch 2/12\n",
            "60000/60000 [==============================] - 96s 2ms/step - loss: 0.1000 - acc: 0.9701 - val_loss: 0.0463 - val_acc: 0.9846\n",
            "Epoch 3/12\n",
            "60000/60000 [==============================] - 95s 2ms/step - loss: 0.0759 - acc: 0.9771 - val_loss: 0.0366 - val_acc: 0.9878\n",
            "Epoch 4/12\n",
            "60000/60000 [==============================] - 95s 2ms/step - loss: 0.0659 - acc: 0.9806 - val_loss: 0.0337 - val_acc: 0.9887\n",
            "Epoch 5/12\n",
            "60000/60000 [==============================] - 95s 2ms/step - loss: 0.0557 - acc: 0.9832 - val_loss: 0.0360 - val_acc: 0.9878\n",
            "Epoch 6/12\n",
            "60000/60000 [==============================] - 95s 2ms/step - loss: 0.0506 - acc: 0.9851 - val_loss: 0.0308 - val_acc: 0.9903\n",
            "Epoch 7/12\n",
            "60000/60000 [==============================] - 95s 2ms/step - loss: 0.0452 - acc: 0.9864 - val_loss: 0.0295 - val_acc: 0.9903\n",
            "Epoch 8/12\n",
            "60000/60000 [==============================] - 95s 2ms/step - loss: 0.0421 - acc: 0.9871 - val_loss: 0.0326 - val_acc: 0.9887\n",
            "Epoch 9/12\n",
            "60000/60000 [==============================] - 96s 2ms/step - loss: 0.0391 - acc: 0.9880 - val_loss: 0.0271 - val_acc: 0.9910\n",
            "Epoch 10/12\n",
            "60000/60000 [==============================] - 95s 2ms/step - loss: 0.0372 - acc: 0.9885 - val_loss: 0.0293 - val_acc: 0.9904\n",
            "Epoch 11/12\n",
            "60000/60000 [==============================] - 95s 2ms/step - loss: 0.0356 - acc: 0.9888 - val_loss: 0.0297 - val_acc: 0.9908\n",
            "Epoch 12/12\n",
            "60000/60000 [==============================] - 96s 2ms/step - loss: 0.0337 - acc: 0.9899 - val_loss: 0.0325 - val_acc: 0.9901\n",
            "Test loss: 0.03253448956880329\n",
            "Test accuracy: 0.9901\n"
          ],
          "name": "stdout"
        }
      ]
    },
    {
      "cell_type": "code",
      "metadata": {
        "id": "cevJT6yNSL4M",
        "colab_type": "code",
        "outputId": "c0c9749e-2229-4173-dc13-f033ace05108",
        "colab": {
          "base_uri": "https://localhost:8080/",
          "height": 466
        }
      },
      "source": [
        "model = Sequential()\n",
        "model.add(Conv2D(40, kernel_size=(3, 3),\n",
        "                 activation='relu',\n",
        "                 input_shape=input_shape))\n",
        "model.add(Conv2D(20, (3, 3), activation='relu'))\n",
        "model.add(MaxPooling2D(pool_size=(2, 2)))\n",
        "model.add(Dropout(0.25))\n",
        "model.add(Flatten())\n",
        "model.add(Dense(128, activation='relu'))\n",
        "model.add(Dropout(0.5))\n",
        "model.add(Dense(num_classes, activation='softmax'))\n",
        "\n",
        "model.compile(loss=keras.losses.categorical_crossentropy,\n",
        "              optimizer=keras.optimizers.Adadelta(),\n",
        "              metrics=['accuracy'])\n",
        "\n",
        "model.fit(x_train, y_train,\n",
        "          batch_size=batch_size,\n",
        "          epochs=epochs,\n",
        "          verbose=1,\n",
        "          validation_data=(x_test, y_test))\n",
        "score = model.evaluate(x_test, y_test, verbose=0)\n",
        "print('Test loss:', score[0])\n",
        "print('Test accuracy:', score[1])"
      ],
      "execution_count": 0,
      "outputs": [
        {
          "output_type": "stream",
          "text": [
            "Train on 60000 samples, validate on 10000 samples\n",
            "Epoch 1/12\n",
            "60000/60000 [==============================] - 121s 2ms/step - loss: 0.3100 - acc: 0.9039 - val_loss: 0.0708 - val_acc: 0.9784\n",
            "Epoch 2/12\n",
            "60000/60000 [==============================] - 119s 2ms/step - loss: 0.1128 - acc: 0.9663 - val_loss: 0.0486 - val_acc: 0.9842\n",
            "Epoch 3/12\n",
            "60000/60000 [==============================] - 120s 2ms/step - loss: 0.0843 - acc: 0.9741 - val_loss: 0.0396 - val_acc: 0.9869\n",
            "Epoch 4/12\n",
            "60000/60000 [==============================] - 119s 2ms/step - loss: 0.0716 - acc: 0.9790 - val_loss: 0.0357 - val_acc: 0.9883\n",
            "Epoch 5/12\n",
            "60000/60000 [==============================] - 120s 2ms/step - loss: 0.0633 - acc: 0.9815 - val_loss: 0.0385 - val_acc: 0.9873\n",
            "Epoch 6/12\n",
            "60000/60000 [==============================] - 119s 2ms/step - loss: 0.0572 - acc: 0.9825 - val_loss: 0.0310 - val_acc: 0.9894\n",
            "Epoch 7/12\n",
            "60000/60000 [==============================] - 119s 2ms/step - loss: 0.0536 - acc: 0.9843 - val_loss: 0.0297 - val_acc: 0.9900\n",
            "Epoch 8/12\n",
            "60000/60000 [==============================] - 120s 2ms/step - loss: 0.0510 - acc: 0.9846 - val_loss: 0.0274 - val_acc: 0.9908\n",
            "Epoch 9/12\n",
            "60000/60000 [==============================] - 119s 2ms/step - loss: 0.0466 - acc: 0.9857 - val_loss: 0.0321 - val_acc: 0.9899\n",
            "Epoch 10/12\n",
            "60000/60000 [==============================] - 120s 2ms/step - loss: 0.0441 - acc: 0.9868 - val_loss: 0.0312 - val_acc: 0.9901\n",
            "Epoch 11/12\n",
            "60000/60000 [==============================] - 120s 2ms/step - loss: 0.0404 - acc: 0.9878 - val_loss: 0.0320 - val_acc: 0.9899\n",
            "Epoch 12/12\n",
            "60000/60000 [==============================] - 119s 2ms/step - loss: 0.0394 - acc: 0.9877 - val_loss: 0.0281 - val_acc: 0.9915\n",
            "Test loss: 0.02813287973307033\n",
            "Test accuracy: 0.9915\n"
          ],
          "name": "stdout"
        }
      ]
    },
    {
      "cell_type": "code",
      "metadata": {
        "id": "SUTpEPdpSSEL",
        "colab_type": "code",
        "outputId": "b49844dc-f5fb-4439-e87e-2a45885db583",
        "colab": {
          "base_uri": "https://localhost:8080/",
          "height": 1000
        }
      },
      "source": [
        "from prettytable import PrettyTable\n",
        "    \n",
        "x = PrettyTable()\n",
        "\n",
        "x.field_names = [\"Model description\",  \"test loss\", \"test accuracy\"]\n",
        "x.add_row([\"Conv 2D 3x3 32\\n Conv 2D 3x3 64\\n Maxpool 2x2 \\n Dropout 0.25 \\n Flatten \\n Dense Dropout 0.5\", 0.0302, .9904])\n",
        "x.add_row([\"Conv 2D 5x5 32\\n Conv 2D 5x5 64\\n Maxpool 2x2 \\n Dropout 0.25 \\n Flatten \\n Dense Dropout 0.5\", 0.0231, .9926])\n",
        "x.add_row([\"Conv 2D 7x7 32\\n Conv 2D 7x7 64\\n Maxpool 2x2 \\n Dropout 0.25 \\n Flatten \\n Dense Dropout 0.5\", 0.0227, .9937])\n",
        "x.add_row([\"Conv 2D 3x3 32\\n Conv 2D 3x3 64\\n Maxpool 3x3 \\n Dropout 0.25 \\n Flatten \\n Dense Dropout 0.5\", 0.0275, .9924])\n",
        "x.add_row([\"Conv 2D 3x3 32\\n Conv 2D 3x3 64\\n Maxpool 5x5 \\n Dropout 0.25 \\n Flatten \\n Dense Dropout 0.5\", 0.0284, .9925])\n",
        "x.add_row([\"Conv 2D 3x3 32\\n Conv 2D 3x3 64\\n Maxpool 2x2 \\n Dropout 0.40 \\n Flatten \\n Dense Dropout 0.5\", 0.0294, .9908])\n",
        "x.add_row([\"Conv 2D 3x3 32\\n Conv 2D 3x3 64\\n Maxpool 2x2 \\n Dropout 0.50 \\n Flatten \\n Dense Dropout 0.5\", 0.0305, .9908])\n",
        "x.add_row([\"Conv 2D 3x3 32\\n Conv 2D 3x3 64\\n Maxpool 2x2 \\n Dropout 0.60 \\n Flatten \\n Dense Dropout 0.5\", 0.0285, .9904])\n",
        "x.add_row([\"Conv 2D 3x3 20\\n Conv 2D 3x3 40\\n Maxpool 2x2 \\n Dropout 0.60 \\n Flatten \\n Dense Dropout 0.5\", 0.0285, .9904])\n",
        "x.add_row([\"Conv 2D 3x3 40\\n Conv 2D 3x3 20\\n Maxpool 2x2 \\n Dropout 0.60 \\n Flatten \\n Dense Dropout 0.5\", 0.0285, .9904])\n",
        "\n",
        "print(x)"
      ],
      "execution_count": 0,
      "outputs": [
        {
          "output_type": "stream",
          "text": [
            "+--------------------+-----------+---------------+\n",
            "| Model description  | test loss | test accuracy |\n",
            "+--------------------+-----------+---------------+\n",
            "|   Conv 2D 3x3 32   |   0.0302  |     0.9904    |\n",
            "|   Conv 2D 3x3 64   |           |               |\n",
            "|    Maxpool 2x2     |           |               |\n",
            "|    Dropout 0.25    |           |               |\n",
            "|      Flatten       |           |               |\n",
            "|  Dense Dropout 0.5 |           |               |\n",
            "|   Conv 2D 5x5 32   |   0.0231  |     0.9926    |\n",
            "|   Conv 2D 5x5 64   |           |               |\n",
            "|    Maxpool 2x2     |           |               |\n",
            "|    Dropout 0.25    |           |               |\n",
            "|      Flatten       |           |               |\n",
            "|  Dense Dropout 0.5 |           |               |\n",
            "|   Conv 2D 7x7 32   |   0.0227  |     0.9937    |\n",
            "|   Conv 2D 7x7 64   |           |               |\n",
            "|    Maxpool 2x2     |           |               |\n",
            "|    Dropout 0.25    |           |               |\n",
            "|      Flatten       |           |               |\n",
            "|  Dense Dropout 0.5 |           |               |\n",
            "|   Conv 2D 3x3 32   |   0.0275  |     0.9924    |\n",
            "|   Conv 2D 3x3 64   |           |               |\n",
            "|    Maxpool 3x3     |           |               |\n",
            "|    Dropout 0.25    |           |               |\n",
            "|      Flatten       |           |               |\n",
            "|  Dense Dropout 0.5 |           |               |\n",
            "|   Conv 2D 3x3 32   |   0.0284  |     0.9925    |\n",
            "|   Conv 2D 3x3 64   |           |               |\n",
            "|    Maxpool 5x5     |           |               |\n",
            "|    Dropout 0.25    |           |               |\n",
            "|      Flatten       |           |               |\n",
            "|  Dense Dropout 0.5 |           |               |\n",
            "|   Conv 2D 3x3 32   |   0.0294  |     0.9908    |\n",
            "|   Conv 2D 3x3 64   |           |               |\n",
            "|    Maxpool 2x2     |           |               |\n",
            "|    Dropout 0.40    |           |               |\n",
            "|      Flatten       |           |               |\n",
            "|  Dense Dropout 0.5 |           |               |\n",
            "|   Conv 2D 3x3 32   |   0.0305  |     0.9908    |\n",
            "|   Conv 2D 3x3 64   |           |               |\n",
            "|    Maxpool 2x2     |           |               |\n",
            "|    Dropout 0.50    |           |               |\n",
            "|      Flatten       |           |               |\n",
            "|  Dense Dropout 0.5 |           |               |\n",
            "|   Conv 2D 3x3 32   |   0.0285  |     0.9904    |\n",
            "|   Conv 2D 3x3 64   |           |               |\n",
            "|    Maxpool 2x2     |           |               |\n",
            "|    Dropout 0.60    |           |               |\n",
            "|      Flatten       |           |               |\n",
            "|  Dense Dropout 0.5 |           |               |\n",
            "|   Conv 2D 3x3 20   |   0.0285  |     0.9904    |\n",
            "|   Conv 2D 3x3 40   |           |               |\n",
            "|    Maxpool 2x2     |           |               |\n",
            "|    Dropout 0.60    |           |               |\n",
            "|      Flatten       |           |               |\n",
            "|  Dense Dropout 0.5 |           |               |\n",
            "|   Conv 2D 3x3 40   |   0.0285  |     0.9904    |\n",
            "|   Conv 2D 3x3 20   |           |               |\n",
            "|    Maxpool 2x2     |           |               |\n",
            "|    Dropout 0.60    |           |               |\n",
            "|      Flatten       |           |               |\n",
            "|  Dense Dropout 0.5 |           |               |\n",
            "+--------------------+-----------+---------------+\n"
          ],
          "name": "stdout"
        }
      ]
    },
    {
      "cell_type": "code",
      "metadata": {
        "id": "A0A3S18nbPLX",
        "colab_type": "code",
        "colab": {}
      },
      "source": [
        ""
      ],
      "execution_count": 0,
      "outputs": []
    }
  ]
}